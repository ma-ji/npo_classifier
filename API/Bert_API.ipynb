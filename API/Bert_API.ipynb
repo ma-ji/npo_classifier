{
 "cells": [
  {
   "cell_type": "code",
   "execution_count": 10,
   "metadata": {},
   "outputs": [],
   "source": [
    "import os\n",
    "import pandas as pd\n",
    "\n",
    "import numpy as np\n",
    "import torch\n",
    "from torch.utils.data import TensorDataset, DataLoader, RandomSampler, SequentialSampler\n",
    "from keras.preprocessing.sequence import pad_sequences\n",
    "from sklearn.model_selection import train_test_split\n",
    "from transformers import *\n",
    "from tqdm import tqdm, trange\n",
    "import pandas as pd\n",
    "import io\n",
    "import numpy as np\n",
    "import matplotlib.pyplot as plt\n",
    "from collections import Counter\n",
    "\n",
    "import warnings\n",
    "warnings.filterwarnings(\"ignore\")\n",
    "from sklearn import preprocessing"
   ]
  },
  {
   "cell_type": "code",
   "execution_count": 11,
   "metadata": {},
   "outputs": [
    {
     "name": "stdout",
     "output_type": "stream",
     "text": [
      "There are 1 GPU(s) available.\n",
      "Do you want to the GPU accelaration?\n",
      "please enter 'yes' or 'no.'yes\n",
      "Using GPU: Quadro RTX 6000\n"
     ]
    }
   ],
   "source": [
    "# def npoclass(string_input=None):\n",
    "\n",
    "def device_selection():\n",
    "    if torch.cuda.is_available():    \n",
    "\n",
    "        print('There are %d GPU(s) available.' % torch.cuda.device_count())\n",
    "        \n",
    "        print('Do you want to the GPU accelaration?')\n",
    "\n",
    "        selection = input(\"please enter 'yes' or 'no.'\")\n",
    "\n",
    "        if selection == 'yes':\n",
    "            \n",
    "            device = torch.device('cuda')\n",
    "            print('Using GPU:',torch.cuda.get_device_name(0))\n",
    "\n",
    "        elif selection =='no':\n",
    "            \n",
    "            print('Using the CPU instead.')\n",
    "            device = torch.device(\"cpu\")\n",
    "\n",
    "        elif selection != 'no' or selection != 'yes':\n",
    "            print(\"Wrong selection.\\n\\n\")\n",
    "            \n",
    "            device_selection()\n",
    "    \n",
    "    else:\n",
    "        print('No GPU available, using the CPU instead.')\n",
    "        device = torch.device(\"cpu\")\n",
    "    return device\n",
    "        \n",
    "device = device_selection()"
   ]
  },
  {
   "cell_type": "code",
   "execution_count": null,
   "metadata": {},
   "outputs": [],
   "source": [
    "#load pretrained model\n",
    "dir_path='new_classifier_bc/'\n",
    "model_loaded = BertForSequenceClassification.from_pretrained(dir_path)  # re-load\n",
    "tokenizer_loaded = BertTokenizer.from_pretrained(dir_path)  # re-load"
   ]
  },
  {
   "cell_type": "markdown",
   "metadata": {},
   "source": []
  },
  {
   "cell_type": "code",
   "execution_count": 13,
   "metadata": {},
   "outputs": [],
   "source": [
    "#Test an input data\n",
    "string_input=['GREENCROFT GOSHEN INC GREENCROFT GOSDEN PROVIDES ACTIVE , AFFORDABLE RETIREMENT LIVING WITH SUPPORTIVE SERVICES , ASSISTED LIVING , AND SKILLED NURSING CARE . CHARITY CARE FOR EYE JUNE 30 , 2014 AMOUNTED TO $ 4E2793922 . NURSING SERVICES - GREENCROFT GOSDEN IS HEALTH FACILITIES PROVIDE STATE-OF-THE-ART HEALTH CARE TECHNIQUES AND TECHNOLOGY IN AN INVITING AND SUPPORTIVE RESIDENTIAL ENVIRONMENT . OUR SETTING IS APPROPRIATE FOR INDIVIDUALS WHO ARE RECOVERING FROM SURGERY OR ILLNESS , NEED REHABILITATION , OR REQUIRE ONGOING LONG-TERM NURSING CARE . OUR RESTORATIVE CARE PHILOSOPHY REINFORCES THE HEALING AND REHABILITATION PROCESS AND PROMOTES INDEPENDENCE . A FULL RANGE OF ACTIVITIES , CHAPLAINCY , AND SOCIAL SERVICES ARE PROVIDED . WE PROVIDE OUTPATIENT PHYSICAL , OCCUPATIONAL , AND SPEECH/LANGUAGE THERAPIES FOR ALL AGES . WE EMPHASIZE EDUCATION AND COMMUNICATION WITH YOU , YOUR FAMILY , AND REFERRING PHYSICIANS . RESIDENTS WHO DO NOT MISUSE THEIR ASSETS MAY BE ELIGIBLE FOR SUPPORT FROM GREENCROFT COMMUNITIES FOUNDATION IF THEIR ASSETS RUN OUT . DURING THE YEAR ENDED JUNE 30 , 2014 , OVER 21 % OF TOTAL REVENUES WERE USED TO PROVIDE COMMUNITY BENEFITS , WHICH INCLUDES THE FOLLOWING AMOUNTS : INDIGENT CARE/CHARITY CARE - $ 4E2793922 , REDUCED/FREE CARE/USE OF FACILITIES - $ 4893569 , MEDICARE WRITE-OFFS - $ 12003.490 . ; DIETARY AND OTHER SERVICES - THE ORGANIZATION PROVIDES DIETARY AND OTHER MISCELLANEOUS PROGRAM SERVICES TO ITS RESIDENTS . ; RESIDENT SERVICES - GREENCROFT GOSDEN ( GG ) IS A NON-PROFIT COMMUNITY BENEFIT CORPORATION THAT PROVIDES CONTINUING CARE RETIREMENT COMMUNITY ( ICRC ) SERVICES TO 800 RESIDENTS ON A 167-ACRE CAMPUS . GG PROVIDES ICRC SERVICES INCLUDING INDEPENDENT LIVING , ASSISTED LIVING , SKILLED NURSING , ADULT DAY PROGRAMS , SENIOR CENTER PROGRAMS , AND HOME CARE SERVICES . EVERGREEN PLACE PROVIDES GG RESIDENTS WITH A VITAL OPTION IN THE CONTINUUM OF CARE IF AND WHEN THEY SHOULD NEED ASSISTANCE SERVICES . ASSISTED LIVING VACANCIES NOT FILLED BY GG ARE AVAILABLE TO OLDER ADULTS IN THE WIDER COMMUNITY . WE PARTNER WITH RESIDENTS , THEIR FAMILIES , AND OTHERS TO CREATE A COMMUNITY WHERE OLDER ADULTS ENJOY LIFE . SUCH PARTNERSHIP IS ESSENTIAL TO APPROPRIATELY MEET THE NEEDS OF A RAPIDLY GROWING OLDER ADULT POPULATION . RESIDENTS WHO DO NOT MISUSE THEIR ASSETS ARE ELIGIBLE FOR SUPPORT FROM THE GREENCROFT COMMUNITY FOUNDATION IF THEIR ASSETS RUN OUT . GG IS IN AN ACTIVE PARTNERSHIP WITH GOSDEN COLLEGE TO PROVIDE LIFELONG LEARNING OPPORTUNITIES TO PEOPLE OVER THE AGE OF 55 IN ELKHART COUNTY . ADDITIONALLY , GG PROVIDES NUMEROUS PROGRAMS AND ACTIVITIES FOR SENIORS ON AND OFF OUR CAMPUS . GG IS AFFILIATED WITH THREE HUD HOUSING ORGANIZATIONS ON ITS CAMPUS THAT ARE INTEGRATED INTO GG IS SERVICES . THESE ORGANIZATIONS SERVE 325 RESIDENTS.']"
   ]
  },
  {
   "cell_type": "code",
   "execution_count": 20,
   "metadata": {},
   "outputs": [],
   "source": [
    "#preparing labels\n",
    "\n",
    "broad_cat = ['I','II','III','IV','V','VI',\n",
    "                'VII',\n",
    "                'VIII',\n",
    "                'IX',\n",
    "                'X',\n",
    "            ]"
   ]
  },
  {
   "cell_type": "code",
   "execution_count": 15,
   "metadata": {},
   "outputs": [
    {
     "name": "stderr",
     "output_type": "stream",
     "text": [
      "100%|██████████| 1/1 [00:00<00:00, 110.44it/s]"
     ]
    },
    {
     "name": "stdout",
     "output_type": "stream",
     "text": [
      "Original:  GREENCROFT GOSHEN INC GREENCROFT GOSDEN PROVIDES ACTIVE , AFFORDABLE RETIREMENT LIVING WITH SUPPORTIVE SERVICES , ASSISTED LIVING , AND SKILLED NURSING CARE . CHARITY CARE FOR EYE JUNE 30 , 2014 AMOUNTED TO $ 4E2793922 . NURSING SERVICES - GREENCROFT GOSDEN IS HEALTH FACILITIES PROVIDE STATE-OF-THE-ART HEALTH CARE TECHNIQUES AND TECHNOLOGY IN AN INVITING AND SUPPORTIVE RESIDENTIAL ENVIRONMENT . OUR SETTING IS APPROPRIATE FOR INDIVIDUALS WHO ARE RECOVERING FROM SURGERY OR ILLNESS , NEED REHABILITATION , OR REQUIRE ONGOING LONG-TERM NURSING CARE . OUR RESTORATIVE CARE PHILOSOPHY REINFORCES THE HEALING AND REHABILITATION PROCESS AND PROMOTES INDEPENDENCE . A FULL RANGE OF ACTIVITIES , CHAPLAINCY , AND SOCIAL SERVICES ARE PROVIDED . WE PROVIDE OUTPATIENT PHYSICAL , OCCUPATIONAL , AND SPEECH/LANGUAGE THERAPIES FOR ALL AGES . WE EMPHASIZE EDUCATION AND COMMUNICATION WITH YOU , YOUR FAMILY , AND REFERRING PHYSICIANS . RESIDENTS WHO DO NOT MISUSE THEIR ASSETS MAY BE ELIGIBLE FOR SUPPORT FROM GREENCROFT COMMUNITIES FOUNDATION IF THEIR ASSETS RUN OUT . DURING THE YEAR ENDED JUNE 30 , 2014 , OVER 21 % OF TOTAL REVENUES WERE USED TO PROVIDE COMMUNITY BENEFITS , WHICH INCLUDES THE FOLLOWING AMOUNTS : INDIGENT CARE/CHARITY CARE - $ 4E2793922 , REDUCED/FREE CARE/USE OF FACILITIES - $ 4893569 , MEDICARE WRITE-OFFS - $ 12003.490 . ; DIETARY AND OTHER SERVICES - THE ORGANIZATION PROVIDES DIETARY AND OTHER MISCELLANEOUS PROGRAM SERVICES TO ITS RESIDENTS . ; RESIDENT SERVICES - GREENCROFT GOSDEN ( GG ) IS A NON-PROFIT COMMUNITY BENEFIT CORPORATION THAT PROVIDES CONTINUING CARE RETIREMENT COMMUNITY ( ICRC ) SERVICES TO 800 RESIDENTS ON A 167-ACRE CAMPUS . GG PROVIDES ICRC SERVICES INCLUDING INDEPENDENT LIVING , ASSISTED LIVING , SKILLED NURSING , ADULT DAY PROGRAMS , SENIOR CENTER PROGRAMS , AND HOME CARE SERVICES . EVERGREEN PLACE PROVIDES GG RESIDENTS WITH A VITAL OPTION IN THE CONTINUUM OF CARE IF AND WHEN THEY SHOULD NEED ASSISTANCE SERVICES . ASSISTED LIVING VACANCIES NOT FILLED BY GG ARE AVAILABLE TO OLDER ADULTS IN THE WIDER COMMUNITY . WE PARTNER WITH RESIDENTS , THEIR FAMILIES , AND OTHERS TO CREATE A COMMUNITY WHERE OLDER ADULTS ENJOY LIFE . SUCH PARTNERSHIP IS ESSENTIAL TO APPROPRIATELY MEET THE NEEDS OF A RAPIDLY GROWING OLDER ADULT POPULATION . RESIDENTS WHO DO NOT MISUSE THEIR ASSETS ARE ELIGIBLE FOR SUPPORT FROM THE GREENCROFT COMMUNITY FOUNDATION IF THEIR ASSETS RUN OUT . GG IS IN AN ACTIVE PARTNERSHIP WITH GOSDEN COLLEGE TO PROVIDE LIFELONG LEARNING OPPORTUNITIES TO PEOPLE OVER THE AGE OF 55 IN ELKHART COUNTY . ADDITIONALLY , GG PROVIDES NUMEROUS PROGRAMS AND ACTIVITIES FOR SENIORS ON AND OFF OUR CAMPUS . GG IS AFFILIATED WITH THREE HUD HOUSING ORGANIZATIONS ON ITS CAMPUS THAT ARE INTEGRATED INTO GG IS SERVICES . THESE ORGANIZATIONS SERVE 325 RESIDENTS.\n",
      "Token IDs: tensor([  101,  2665, 14716,  2175,  4095,  2368,  4297,  2665, 14716,  2175,\n",
      "        27903,  3640,  3161,  1010, 15184,  5075,  2542,  2007, 16408,  2578,\n",
      "         1010,  7197,  2542,  1010,  1998, 10571,  8329,  2729,  1012,  5952,\n",
      "         2729,  2005,  3239,  2238,  2382,  1010,  2297, 18779,  2000,  1002,\n",
      "         1018,  2063, 22907,  2683, 23499, 19317,  1012,  8329,  2578,  1011,\n",
      "         2665, 14716,  2175, 27903,  2003,  2740,  4128,  3073,  2110,  1011,\n",
      "         1997,  1011,  1996,  1011,  2396,  2740,  2729,  5461,  1998,  2974,\n",
      "         1999,  2019, 15085,  1998, 16408,  5647,  4044,  1012,  2256,  4292,\n",
      "         2003,  6413,  2005,  3633,  2040,  2024, 13400,  2013,  5970,  2030,\n",
      "         7355,  1010,  2342, 11252,  1010,  2030,  5478,  7552,  2146,  1011,\n",
      "         2744,  8329,  2729,  1012,  2256,  2717,  6525,  6024,  2729,  4695,\n",
      "        19444,  2015,  1996,  8907,  1998, 11252,  2832,  1998, 14067,  4336,\n",
      "         1012,  1037,  2440,  2846,  1997,  3450,  1010, 14011,  5666,  1010,\n",
      "         1998,  2591,  2578,  2024,  3024,  1012,  2057,  3073,  2041, 24343,\n",
      "         3558,  1010, 16928,  1010,  1998,  4613,  1013,  2653,  1996,  2527,\n",
      "        13046,  2005,  2035,  5535,  1012,  2057, 17902,  2495,  1998,  4807,\n",
      "         2007,  2017,  1010,  2115,  2155,  1010,  1998,  7727, 11572,  1012,\n",
      "         3901,  2040,  2079,  2025, 28616,  8557,  2037,  7045,  2089,  2022,\n",
      "         7792,  2005,  2490,  2013,  2665, 14716,  4279,  3192,  2065,  2037,\n",
      "         7045,  2448,  2041,  1012,  2076,  1996,  2095,  3092,  2238,  2382,\n",
      "         1010,  2297,  1010,  2058,  2538,  1003,  1997,  2561, 12594,  2020,\n",
      "         2109,  2000,  3073,  2451,  6666,  1010,  2029,  2950,  1996,  2206,\n",
      "         8310,  1024, 27427, 29206,  2102,  2729,  1013,  5952,  2729,  1011,\n",
      "         1002,  1018,  2063, 22907,  2683, 23499, 19317,  1010,  4359,  1013,\n",
      "         2489,  2729,  1013,  2224,  1997,  4128,  1011,  1002,  4466,  2683,\n",
      "        19481,  2575,  2683,  1010, 27615,   102])\n"
     ]
    },
    {
     "name": "stderr",
     "output_type": "stream",
     "text": [
      "\n"
     ]
    }
   ],
   "source": [
    "# Tokenize all of the sentences and map the tokens to thier word IDs.\n",
    "input_ids = []\n",
    "attention_masks = []\n",
    "\n",
    "# For every sentence...\n",
    "for sent in tqdm(string_input):\n",
    "    # `encode_plus` will:\n",
    "    #   (1) Tokenize the sentence.\n",
    "    #   (2) Prepend the `[CLS]` token to the start.\n",
    "    #   (3) Append the `[SEP]` token to the end.\n",
    "    #   (4) Map tokens to their IDs.\n",
    "    #   (5) Pad or truncate the sentence to `max_length`\n",
    "    #   (6) Create attention masks for [PAD] tokens.\n",
    "    encoded_dict = tokenizer_loaded.encode_plus(\n",
    "                        sent,                      # Sentence to encode.\n",
    "                        add_special_tokens = True, # Add '[CLS]' and '[SEP]'\n",
    "                        max_length = 256,           # Pad & truncate all sentences.\n",
    "                        pad_to_max_length = True,\n",
    "                        return_attention_mask = True,   # Construct attn. masks.\n",
    "                        return_tensors = 'pt',     # Return pytorch tensors.\n",
    "                   )\n",
    "    \n",
    "    # Add the encoded sentence to the list.    \n",
    "    input_ids.append(encoded_dict['input_ids'])\n",
    "    \n",
    "    # And its attention mask (simply differentiates padding from non-padding).\n",
    "    attention_masks.append(encoded_dict['attention_mask'])\n",
    "\n",
    "# Convert the lists into tensors.\n",
    "input_ids = torch.cat(input_ids, dim=0)\n",
    "attention_masks = torch.cat(attention_masks, dim=0)"
   ]
  },
  {
   "cell_type": "code",
   "execution_count": 16,
   "metadata": {},
   "outputs": [],
   "source": [
    "#prepare dataloader\n",
    "batch_size = 32\n",
    "test_data = TensorDataset(input_ids, attention_masks)\n",
    "test_sampler = SequentialSampler(test_data)\n",
    "test_dataloader = DataLoader(test_data, sampler=test_sampler, batch_size=batch_size)"
   ]
  },
  {
   "cell_type": "code",
   "execution_count": 17,
   "metadata": {},
   "outputs": [],
   "source": [
    "import numpy as np\n",
    "import time\n",
    "import datetime\n",
    "import random\n",
    "\n",
    "#setup time\n",
    "def format_time(elapsed):\n",
    "    '''\n",
    "    Takes a time in seconds and returns a string hh:mm:ss\n",
    "    '''\n",
    "    # Round to the nearest second.\n",
    "    elapsed_rounded = int(round((elapsed)))\n",
    "    \n",
    "    # Format as hh:mm:ss\n",
    "    return str(datetime.timedelta(seconds=elapsed_rounded))\n",
    "\n",
    "# Set the seed value all over the place to make this reproducible.\n",
    "seed_val = 42\n",
    "\n",
    "random.seed(seed_val)\n",
    "np.random.seed(seed_val)\n",
    "torch.manual_seed(seed_val)\n",
    "torch.cuda.manual_seed_all(seed_val)"
   ]
  },
  {
   "cell_type": "code",
   "execution_count": 18,
   "metadata": {},
   "outputs": [
    {
     "name": "stdout",
     "output_type": "stream",
     "text": [
      "  Validation took: 0:00:00\n"
     ]
    }
   ],
   "source": [
    "model_loaded.cuda()\n",
    "\n",
    "logits_all=[]\n",
    "label_ids_all=[]\n",
    "\n",
    "t0 = time.time()\n",
    "\n",
    "for batch in test_dataloader:\n",
    "\n",
    "    # Add batch to GPU\n",
    "    batch = tuple(t.to(device) for t in batch)\n",
    "\n",
    "\n",
    "    b_input_ids, b_input_mask = batch\n",
    "\n",
    "\n",
    "    with torch.no_grad():        \n",
    "\n",
    "        outputs = model_loaded(b_input_ids, \n",
    "                               token_type_ids=None, \n",
    "                               attention_mask=b_input_mask)\n",
    "\n",
    "\n",
    "    logits = outputs[0]\n",
    "\n",
    "\n",
    "    logits = logits.detach().cpu().numpy()\n",
    "    logits_all+=list(np.argmax(logits, axis=1))\n",
    "\n",
    "\n",
    "    nb_eval_steps += 1\n",
    "\n",
    "print(\"  Validation took: {:}\".format(format_time(time.time() - t0)))"
   ]
  },
  {
   "cell_type": "code",
   "execution_count": 21,
   "metadata": {},
   "outputs": [],
   "source": [
    "logits_all_letter=preprocessing.LabelEncoder().fit(broad_cat).inverse_transform(logits_all)"
   ]
  },
  {
   "cell_type": "code",
   "execution_count": 24,
   "metadata": {},
   "outputs": [],
   "source": [
    "df_eval=pd.DataFrame([logits_all_letter]).T.rename(columns={0:'pred', 1:'true'})"
   ]
  },
  {
   "cell_type": "code",
   "execution_count": 25,
   "metadata": {},
   "outputs": [
    {
     "data": {
      "text/html": [
       "<div>\n",
       "<style scoped>\n",
       "    .dataframe tbody tr th:only-of-type {\n",
       "        vertical-align: middle;\n",
       "    }\n",
       "\n",
       "    .dataframe tbody tr th {\n",
       "        vertical-align: top;\n",
       "    }\n",
       "\n",
       "    .dataframe thead th {\n",
       "        text-align: right;\n",
       "    }\n",
       "</style>\n",
       "<table border=\"1\" class=\"dataframe\">\n",
       "  <thead>\n",
       "    <tr style=\"text-align: right;\">\n",
       "      <th></th>\n",
       "      <th>pred</th>\n",
       "    </tr>\n",
       "  </thead>\n",
       "  <tbody>\n",
       "    <tr>\n",
       "      <td>0</td>\n",
       "      <td>V</td>\n",
       "    </tr>\n",
       "  </tbody>\n",
       "</table>\n",
       "</div>"
      ],
      "text/plain": [
       "  pred\n",
       "0    V"
      ]
     },
     "execution_count": 25,
     "metadata": {},
     "output_type": "execute_result"
    }
   ],
   "source": [
    "df_eval"
   ]
  },
  {
   "cell_type": "code",
   "execution_count": null,
   "metadata": {},
   "outputs": [],
   "source": []
  }
 ],
 "metadata": {
  "kernelspec": {
   "display_name": "Python 3",
   "language": "python",
   "name": "python3"
  },
  "language_info": {
   "codemirror_mode": {
    "name": "ipython",
    "version": 3
   },
   "file_extension": ".py",
   "mimetype": "text/x-python",
   "name": "python",
   "nbconvert_exporter": "python",
   "pygments_lexer": "ipython3",
   "version": "3.7.4"
  }
 },
 "nbformat": 4,
 "nbformat_minor": 2
}
